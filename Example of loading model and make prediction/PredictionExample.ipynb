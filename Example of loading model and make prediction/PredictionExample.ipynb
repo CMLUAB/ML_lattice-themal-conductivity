{
 "cells": [
  {
   "cell_type": "code",
   "execution_count": 24,
   "metadata": {},
   "outputs": [
    {
     "name": "stdout",
     "output_type": "stream",
     "text": [
      "Predicted K2CdPb: 8.41\n"
     ]
    }
   ],
   "source": [
    "## Prediction ##\n",
    "from sklearn.model_selection import train_test_split\n",
    "from sklearn.utils import shuffle\n",
    "%matplotlib inline\n",
    "import numpy as np\n",
    "from numpy import array\n",
    "import pandas as pd\n",
    "import math\n",
    "\n",
    "# Shuffle the data to reduce bias\n",
    "df=shuffle(df)\n",
    "df=pd.read_csv('feature.csv',sep=',')\n",
    "\n",
    "y1 = df['kL'].values\n",
    "y=np.log10(y1)\n",
    "\n",
    "excluded = [\"kL\",\"formula\",\"composition\",\"bulkmod\"]\n",
    "X = df.drop(excluded, axis=1)\n",
    "\n",
    "X_train, X_test, y_train, y_test = train_test_split(X, y, test_size=0.1,random_state=1)\n",
    "\n",
    "import joblib\n",
    "RF=joblib.load('FinalKLModelWeighted.joblib')\n",
    "\n",
    "\n",
    "#Materials_Project_predict_result\n",
    "\n",
    "df_pre=pd.read_csv('Predict_SampleData.csv')\n",
    "\n",
    "excluded = [\"kL\",\"formula\",\"composition\",\"bulkmod\"]\n",
    "X_pre = df_pre.drop(excluded, axis=1)\n",
    "\n",
    "Prediction=RF.predict(X_pre)\n",
    "print('Predicted K2CdPb:',math.pow(10,y[0]))"
   ]
  }
 ],
 "metadata": {
  "kernelspec": {
   "display_name": "Python 3",
   "language": "python",
   "name": "python3"
  },
  "language_info": {
   "codemirror_mode": {
    "name": "ipython",
    "version": 3
   },
   "file_extension": ".py",
   "mimetype": "text/x-python",
   "name": "python",
   "nbconvert_exporter": "python",
   "pygments_lexer": "ipython3",
   "version": "3.7.3"
  }
 },
 "nbformat": 4,
 "nbformat_minor": 2
}
